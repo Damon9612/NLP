{
 "cells": [
  {
   "cell_type": "markdown",
   "metadata": {},
   "source": [
    "# Data Cleaning"
   ]
  },
  {
   "cell_type": "code",
   "execution_count": 212,
   "metadata": {},
   "outputs": [],
   "source": [
    "import numpy as np\n",
    "import pandas as pd\n",
    "import matplotlib.pyplot as plt\n",
    "%matplotlib inline\n",
    "import sys"
   ]
  },
  {
   "cell_type": "code",
   "execution_count": null,
   "metadata": {},
   "outputs": [],
   "source": []
  },
  {
   "cell_type": "code",
   "execution_count": 232,
   "metadata": {},
   "outputs": [
    {
     "name": "stderr",
     "output_type": "stream",
     "text": [
      "C:\\Users\\jingxiang.ma\\AppData\\Local\\Continuum\\anaconda3\\lib\\site-packages\\ipykernel_launcher.py:4: FutureWarning: convert_objects is deprecated.  To re-infer data dtypes for object columns, use DataFrame.infer_objects()\n",
      "For all other conversions use the data-type specific converters pd.to_datetime, pd.to_timedelta and pd.to_numeric.\n",
      "  after removing the cwd from sys.path.\n"
     ]
    }
   ],
   "source": [
    "data_target = pd.read_csv(\"target.csv\")\n",
    "data_target = pd.read_csv(\"target.csv\")\n",
    "data_target = data_target.set_index(\"Date\")\n",
    "data_target = data_target.convert_objects(convert_numeric=True)\n",
    "\n"
   ]
  },
  {
   "cell_type": "code",
   "execution_count": null,
   "metadata": {},
   "outputs": [],
   "source": []
  },
  {
   "cell_type": "code",
   "execution_count": null,
   "metadata": {},
   "outputs": [],
   "source": [
    "\n"
   ]
  },
  {
   "cell_type": "code",
   "execution_count": null,
   "metadata": {},
   "outputs": [],
   "source": [
    "\n"
   ]
  },
  {
   "cell_type": "code",
   "execution_count": null,
   "metadata": {},
   "outputs": [],
   "source": []
  },
  {
   "cell_type": "code",
   "execution_count": null,
   "metadata": {},
   "outputs": [],
   "source": []
  },
  {
   "cell_type": "code",
   "execution_count": null,
   "metadata": {},
   "outputs": [],
   "source": []
  },
  {
   "cell_type": "code",
   "execution_count": null,
   "metadata": {},
   "outputs": [],
   "source": []
  },
  {
   "cell_type": "code",
   "execution_count": 234,
   "metadata": {},
   "outputs": [
    {
     "name": "stderr",
     "output_type": "stream",
     "text": [
      "C:\\Users\\jingxiang.ma\\AppData\\Local\\Continuum\\anaconda3\\lib\\site-packages\\ipykernel_launcher.py:3: FutureWarning: convert_objects is deprecated.  To re-infer data dtypes for object columns, use DataFrame.infer_objects()\n",
      "For all other conversions use the data-type specific converters pd.to_datetime, pd.to_timedelta and pd.to_numeric.\n",
      "  This is separate from the ipykernel package so we can avoid doing imports until\n"
     ]
    }
   ],
   "source": [
    "data_real = pd.read_csv(\"real.csv\")\n",
    "data_real = data_real.set_index(\"Date\")\n",
    "data_real = data_real.convert_objects(convert_numeric=True)\n",
    "\n"
   ]
  },
  {
   "cell_type": "code",
   "execution_count": 127,
   "metadata": {},
   "outputs": [
    {
     "data": {
      "text/html": [
       "<div>\n",
       "<style scoped>\n",
       "    .dataframe tbody tr th:only-of-type {\n",
       "        vertical-align: middle;\n",
       "    }\n",
       "\n",
       "    .dataframe tbody tr th {\n",
       "        vertical-align: top;\n",
       "    }\n",
       "\n",
       "    .dataframe thead th {\n",
       "        text-align: right;\n",
       "    }\n",
       "</style>\n",
       "<table border=\"1\" class=\"dataframe\">\n",
       "  <thead>\n",
       "    <tr style=\"text-align: right;\">\n",
       "      <th></th>\n",
       "      <th>1/31/2008</th>\n",
       "      <th>2/29/2008</th>\n",
       "      <th>3/31/2008</th>\n",
       "      <th>4/30/2008</th>\n",
       "      <th>5/31/2008</th>\n",
       "      <th>6/30/2008</th>\n",
       "      <th>7/31/2008</th>\n",
       "      <th>8/31/2008</th>\n",
       "      <th>9/30/2008</th>\n",
       "      <th>10/31/2008</th>\n",
       "      <th>...</th>\n",
       "      <th>8/31/2017</th>\n",
       "      <th>9/30/2017</th>\n",
       "      <th>10/31/2017</th>\n",
       "      <th>11/30/2017</th>\n",
       "      <th>12/31/2017</th>\n",
       "      <th>1/31/2018</th>\n",
       "      <th>2/28/2018</th>\n",
       "      <th>3/31/2018</th>\n",
       "      <th>4/30/2018</th>\n",
       "      <th>5/31/2018</th>\n",
       "    </tr>\n",
       "    <tr>\n",
       "      <th>Date</th>\n",
       "      <th></th>\n",
       "      <th></th>\n",
       "      <th></th>\n",
       "      <th></th>\n",
       "      <th></th>\n",
       "      <th></th>\n",
       "      <th></th>\n",
       "      <th></th>\n",
       "      <th></th>\n",
       "      <th></th>\n",
       "      <th></th>\n",
       "      <th></th>\n",
       "      <th></th>\n",
       "      <th></th>\n",
       "      <th></th>\n",
       "      <th></th>\n",
       "      <th></th>\n",
       "      <th></th>\n",
       "      <th></th>\n",
       "      <th></th>\n",
       "      <th></th>\n",
       "    </tr>\n",
       "  </thead>\n",
       "  <tbody>\n",
       "    <tr>\n",
       "      <th>MMM US Equity</th>\n",
       "      <td>79.6500</td>\n",
       "      <td>78.4000</td>\n",
       "      <td>79.1500</td>\n",
       "      <td>76.9000</td>\n",
       "      <td>77.560</td>\n",
       "      <td>69.5900</td>\n",
       "      <td>70.3900</td>\n",
       "      <td>71.6000</td>\n",
       "      <td>68.3100</td>\n",
       "      <td>64.3000</td>\n",
       "      <td>...</td>\n",
       "      <td>204.32</td>\n",
       "      <td>209.90</td>\n",
       "      <td>230.19</td>\n",
       "      <td>243.14</td>\n",
       "      <td>235.37</td>\n",
       "      <td>250.50</td>\n",
       "      <td>235.51</td>\n",
       "      <td>219.52</td>\n",
       "      <td>194.39</td>\n",
       "      <td>197.23</td>\n",
       "    </tr>\n",
       "    <tr>\n",
       "      <th>AOS US Equity</th>\n",
       "      <td>5.8317</td>\n",
       "      <td>6.0717</td>\n",
       "      <td>5.4783</td>\n",
       "      <td>5.1567</td>\n",
       "      <td>6.025</td>\n",
       "      <td>5.4717</td>\n",
       "      <td>6.6167</td>\n",
       "      <td>6.8617</td>\n",
       "      <td>6.5317</td>\n",
       "      <td>5.2583</td>\n",
       "      <td>...</td>\n",
       "      <td>55.69</td>\n",
       "      <td>59.43</td>\n",
       "      <td>59.20</td>\n",
       "      <td>63.42</td>\n",
       "      <td>61.28</td>\n",
       "      <td>66.78</td>\n",
       "      <td>64.19</td>\n",
       "      <td>63.59</td>\n",
       "      <td>61.35</td>\n",
       "      <td>63.07</td>\n",
       "    </tr>\n",
       "    <tr>\n",
       "      <th>ABT US Equity</th>\n",
       "      <td>26.8806</td>\n",
       "      <td>25.6222</td>\n",
       "      <td>26.3878</td>\n",
       "      <td>25.2395</td>\n",
       "      <td>26.962</td>\n",
       "      <td>25.3447</td>\n",
       "      <td>26.9572</td>\n",
       "      <td>27.4787</td>\n",
       "      <td>27.5505</td>\n",
       "      <td>26.3878</td>\n",
       "      <td>...</td>\n",
       "      <td>50.94</td>\n",
       "      <td>53.36</td>\n",
       "      <td>54.23</td>\n",
       "      <td>56.37</td>\n",
       "      <td>57.07</td>\n",
       "      <td>62.16</td>\n",
       "      <td>60.33</td>\n",
       "      <td>59.92</td>\n",
       "      <td>58.13</td>\n",
       "      <td>61.53</td>\n",
       "    </tr>\n",
       "    <tr>\n",
       "      <th>ABBV US Equity</th>\n",
       "      <td>34.1600</td>\n",
       "      <td>36.6900</td>\n",
       "      <td>36.9200</td>\n",
       "      <td>40.7800</td>\n",
       "      <td>46.050</td>\n",
       "      <td>42.6900</td>\n",
       "      <td>41.3400</td>\n",
       "      <td>45.4800</td>\n",
       "      <td>42.6100</td>\n",
       "      <td>44.7300</td>\n",
       "      <td>...</td>\n",
       "      <td>NaN</td>\n",
       "      <td>NaN</td>\n",
       "      <td>NaN</td>\n",
       "      <td>NaN</td>\n",
       "      <td>NaN</td>\n",
       "      <td>NaN</td>\n",
       "      <td>NaN</td>\n",
       "      <td>NaN</td>\n",
       "      <td>NaN</td>\n",
       "      <td>NaN</td>\n",
       "    </tr>\n",
       "    <tr>\n",
       "      <th>ACN US Equity</th>\n",
       "      <td>34.6200</td>\n",
       "      <td>35.2500</td>\n",
       "      <td>35.1700</td>\n",
       "      <td>37.5500</td>\n",
       "      <td>40.820</td>\n",
       "      <td>40.7200</td>\n",
       "      <td>41.7600</td>\n",
       "      <td>41.3600</td>\n",
       "      <td>38.0000</td>\n",
       "      <td>33.0500</td>\n",
       "      <td>...</td>\n",
       "      <td>130.76</td>\n",
       "      <td>135.07</td>\n",
       "      <td>142.36</td>\n",
       "      <td>148.01</td>\n",
       "      <td>153.09</td>\n",
       "      <td>160.70</td>\n",
       "      <td>161.01</td>\n",
       "      <td>153.50</td>\n",
       "      <td>151.20</td>\n",
       "      <td>155.74</td>\n",
       "    </tr>\n",
       "  </tbody>\n",
       "</table>\n",
       "<p>5 rows × 125 columns</p>\n",
       "</div>"
      ],
      "text/plain": [
       "                1/31/2008  2/29/2008  3/31/2008  4/30/2008  5/31/2008  \\\n",
       "Date                                                                    \n",
       "MMM US Equity     79.6500    78.4000    79.1500    76.9000     77.560   \n",
       "AOS US Equity      5.8317     6.0717     5.4783     5.1567      6.025   \n",
       "ABT US Equity     26.8806    25.6222    26.3878    25.2395     26.962   \n",
       "ABBV US Equity    34.1600    36.6900    36.9200    40.7800     46.050   \n",
       "ACN US Equity     34.6200    35.2500    35.1700    37.5500     40.820   \n",
       "\n",
       "                6/30/2008  7/31/2008  8/31/2008  9/30/2008  10/31/2008  \\\n",
       "Date                                                                     \n",
       "MMM US Equity     69.5900    70.3900    71.6000    68.3100     64.3000   \n",
       "AOS US Equity      5.4717     6.6167     6.8617     6.5317      5.2583   \n",
       "ABT US Equity     25.3447    26.9572    27.4787    27.5505     26.3878   \n",
       "ABBV US Equity    42.6900    41.3400    45.4800    42.6100     44.7300   \n",
       "ACN US Equity     40.7200    41.7600    41.3600    38.0000     33.0500   \n",
       "\n",
       "                  ...      8/31/2017  9/30/2017  10/31/2017  11/30/2017  \\\n",
       "Date              ...                                                     \n",
       "MMM US Equity     ...         204.32     209.90      230.19      243.14   \n",
       "AOS US Equity     ...          55.69      59.43       59.20       63.42   \n",
       "ABT US Equity     ...          50.94      53.36       54.23       56.37   \n",
       "ABBV US Equity    ...            NaN        NaN         NaN         NaN   \n",
       "ACN US Equity     ...         130.76     135.07      142.36      148.01   \n",
       "\n",
       "                12/31/2017  1/31/2018  2/28/2018  3/31/2018  4/30/2018  \\\n",
       "Date                                                                     \n",
       "MMM US Equity       235.37     250.50     235.51     219.52     194.39   \n",
       "AOS US Equity        61.28      66.78      64.19      63.59      61.35   \n",
       "ABT US Equity        57.07      62.16      60.33      59.92      58.13   \n",
       "ABBV US Equity         NaN        NaN        NaN        NaN        NaN   \n",
       "ACN US Equity       153.09     160.70     161.01     153.50     151.20   \n",
       "\n",
       "                5/31/2018  \n",
       "Date                       \n",
       "MMM US Equity      197.23  \n",
       "AOS US Equity       63.07  \n",
       "ABT US Equity       61.53  \n",
       "ABBV US Equity        NaN  \n",
       "ACN US Equity      155.74  \n",
       "\n",
       "[5 rows x 125 columns]"
      ]
     },
     "execution_count": 127,
     "metadata": {},
     "output_type": "execute_result"
    }
   ],
   "source": [
    "data_real.head()"
   ]
  },
  {
   "cell_type": "code",
   "execution_count": 128,
   "metadata": {},
   "outputs": [
    {
     "name": "stdout",
     "output_type": "stream",
     "text": [
      "451\n",
      "293\n"
     ]
    }
   ],
   "source": [
    "# clean data\n",
    "real_withoutna = data_real.dropna(axis = 0)\n",
    "print(len(real_withoutna))\n",
    "\n",
    "target_withoutna = data_target.dropna(axis=0)\n",
    "print(len(target_withoutna))\n",
    "\n"
   ]
  },
  {
   "cell_type": "code",
   "execution_count": 129,
   "metadata": {},
   "outputs": [],
   "source": [
    "# transfer missing value into 0\n",
    "data_real = real_withoutna.fillna(0)\n",
    "\n",
    "data_target = data_target.loc[list(data_real.index), :]\n",
    "data_target = data_target.fillna(0)\n",
    "\n"
   ]
  },
  {
   "cell_type": "code",
   "execution_count": null,
   "metadata": {},
   "outputs": [],
   "source": []
  },
  {
   "cell_type": "code",
   "execution_count": 130,
   "metadata": {},
   "outputs": [
    {
     "data": {
      "text/plain": [
       "True"
      ]
     },
     "execution_count": 130,
     "metadata": {},
     "output_type": "execute_result"
    }
   ],
   "source": [
    "len(data_target)==len(data_real)"
   ]
  },
  {
   "cell_type": "code",
   "execution_count": 131,
   "metadata": {},
   "outputs": [],
   "source": [
    "# function to compute bias\n",
    "\n",
    "# \n",
    "def bias(real, target):\n",
    "    nrow = len(real)\n",
    "    ncol = len(real.columns)\n",
    "    \n",
    "    result = real\n",
    "    \n",
    "    for i in range(nrow):\n",
    "        for j in range(ncol):\n",
    "            if real.iloc[i,j]==0 or target.iloc[i,j]==0:\n",
    "                result.iloc[i, j] = -100 # assgin a specific value, convenient for further computation\n",
    "            else:\n",
    "                result.iloc[i, j] = target.iloc[i,j] / real.iloc[i,j] - 1\n",
    "                # it is not number, it is string\n",
    "                \n",
    "    return result\n",
    "    \n",
    "    "
   ]
  },
  {
   "cell_type": "code",
   "execution_count": null,
   "metadata": {},
   "outputs": [],
   "source": []
  },
  {
   "cell_type": "code",
   "execution_count": 132,
   "metadata": {
    "scrolled": false
   },
   "outputs": [],
   "source": [
    "data_bias = bias(data_real, data_target)"
   ]
  },
  {
   "cell_type": "markdown",
   "metadata": {},
   "source": [
    "check strange results: \n",
    "1. DWDP: maybe share split, delete this stock\n"
   ]
  },
  {
   "cell_type": "code",
   "execution_count": null,
   "metadata": {},
   "outputs": [],
   "source": []
  },
  {
   "cell_type": "code",
   "execution_count": null,
   "metadata": {},
   "outputs": [],
   "source": []
  },
  {
   "cell_type": "code",
   "execution_count": 175,
   "metadata": {},
   "outputs": [],
   "source": [
    "# check the maximum value of each row\n",
    "\n",
    "row_max = []\n",
    "for i in range(len(data_bias)):\n",
    "    row_max.append(max(data_bias.iloc[i, :]))"
   ]
  },
  {
   "cell_type": "code",
   "execution_count": 177,
   "metadata": {},
   "outputs": [
    {
     "data": {
      "text/plain": [
       "(array([ 62., 178., 108.,  46.,  29.,   9.,   5.,   1.,   1.,   2.,   1.,\n",
       "          2.,   2.,   1.,   0.,   1.,   1.,   0.,   0.,   2.]),\n",
       " array([0.08387727, 0.32207014, 0.56026301, 0.79845588, 1.03664875,\n",
       "        1.27484163, 1.5130345 , 1.75122737, 1.98942024, 2.22761311,\n",
       "        2.46580598, 2.70399886, 2.94219173, 3.1803846 , 3.41857747,\n",
       "        3.65677034, 3.89496322, 4.13315609, 4.37134896, 4.60954183,\n",
       "        4.8477347 ]),\n",
       " <a list of 20 Patch objects>)"
      ]
     },
     "execution_count": 177,
     "metadata": {},
     "output_type": "execute_result"
    },
    {
     "data": {
      "image/png": "[encoded data removed]",
      "text/plain": [
       "<Figure size 432x288 with 1 Axes>"
      ]
     },
     "metadata": {},
     "output_type": "display_data"
    }
   ],
   "source": [
    "plt.hist(row_max, 20)"
   ]
  },
  {
   "cell_type": "code",
   "execution_count": null,
   "metadata": {},
   "outputs": [],
   "source": []
  },
  {
   "cell_type": "code",
   "execution_count": null,
   "metadata": {},
   "outputs": [],
   "source": []
  },
  {
   "cell_type": "code",
   "execution_count": null,
   "metadata": {},
   "outputs": [],
   "source": [
    "# example"
   ]
  },
  {
   "cell_type": "code",
   "execution_count": 165,
   "metadata": {},
   "outputs": [],
   "source": [
    "ex1 = data_bias.iloc[:, 1]"
   ]
  },
  {
   "cell_type": "code",
   "execution_count": 166,
   "metadata": {},
   "outputs": [
    {
     "data": {
      "text/plain": [
       "136"
      ]
     },
     "execution_count": 166,
     "metadata": {},
     "output_type": "execute_result"
    }
   ],
   "source": [
    "ex2 = list(ex1)\n",
    "ex2.index(max(ex2))"
   ]
  },
  {
   "cell_type": "code",
   "execution_count": 169,
   "metadata": {},
   "outputs": [
    {
     "data": {
      "text/html": [
       "<div>\n",
       "<style scoped>\n",
       "    .dataframe tbody tr th:only-of-type {\n",
       "        vertical-align: middle;\n",
       "    }\n",
       "\n",
       "    .dataframe tbody tr th {\n",
       "        vertical-align: top;\n",
       "    }\n",
       "\n",
       "    .dataframe thead th {\n",
       "        text-align: right;\n",
       "    }\n",
       "</style>\n",
       "<table border=\"1\" class=\"dataframe\">\n",
       "  <thead>\n",
       "    <tr style=\"text-align: right;\">\n",
       "      <th></th>\n",
       "      <th>1/31/2008</th>\n",
       "      <th>2/29/2008</th>\n",
       "      <th>3/31/2008</th>\n",
       "      <th>4/30/2008</th>\n",
       "      <th>5/31/2008</th>\n",
       "      <th>6/30/2008</th>\n",
       "      <th>7/31/2008</th>\n",
       "      <th>8/31/2008</th>\n",
       "      <th>9/30/2008</th>\n",
       "      <th>10/31/2008</th>\n",
       "      <th>...</th>\n",
       "      <th>8/31/2017</th>\n",
       "      <th>9/30/2017</th>\n",
       "      <th>10/31/2017</th>\n",
       "      <th>11/30/2017</th>\n",
       "      <th>12/31/2017</th>\n",
       "      <th>1/31/2018</th>\n",
       "      <th>2/28/2018</th>\n",
       "      <th>3/31/2018</th>\n",
       "      <th>4/30/2018</th>\n",
       "      <th>5/31/2018</th>\n",
       "    </tr>\n",
       "    <tr>\n",
       "      <th>Date</th>\n",
       "      <th></th>\n",
       "      <th></th>\n",
       "      <th></th>\n",
       "      <th></th>\n",
       "      <th></th>\n",
       "      <th></th>\n",
       "      <th></th>\n",
       "      <th></th>\n",
       "      <th></th>\n",
       "      <th></th>\n",
       "      <th></th>\n",
       "      <th></th>\n",
       "      <th></th>\n",
       "      <th></th>\n",
       "      <th></th>\n",
       "      <th></th>\n",
       "      <th></th>\n",
       "      <th></th>\n",
       "      <th></th>\n",
       "      <th></th>\n",
       "      <th></th>\n",
       "    </tr>\n",
       "  </thead>\n",
       "  <tbody>\n",
       "    <tr>\n",
       "      <th>DWDP US Equity</th>\n",
       "      <td>1.019876</td>\n",
       "      <td>1.091006</td>\n",
       "      <td>1.177123</td>\n",
       "      <td>1.029888</td>\n",
       "      <td>1.071683</td>\n",
       "      <td>1.366084</td>\n",
       "      <td>1.479045</td>\n",
       "      <td>1.401406</td>\n",
       "      <td>1.573096</td>\n",
       "      <td>-100.0</td>\n",
       "      <td>...</td>\n",
       "      <td>-100.0</td>\n",
       "      <td>-100.0</td>\n",
       "      <td>-100.0</td>\n",
       "      <td>-100.0</td>\n",
       "      <td>-100.0</td>\n",
       "      <td>-100.0</td>\n",
       "      <td>-100.0</td>\n",
       "      <td>-100.0</td>\n",
       "      <td>-100.0</td>\n",
       "      <td>-100.0</td>\n",
       "    </tr>\n",
       "  </tbody>\n",
       "</table>\n",
       "<p>1 rows × 125 columns</p>\n",
       "</div>"
      ],
      "text/plain": [
       "                1/31/2008  2/29/2008  3/31/2008  4/30/2008  5/31/2008  \\\n",
       "Date                                                                    \n",
       "DWDP US Equity   1.019876   1.091006   1.177123   1.029888   1.071683   \n",
       "\n",
       "                6/30/2008  7/31/2008  8/31/2008  9/30/2008  10/31/2008  \\\n",
       "Date                                                                     \n",
       "DWDP US Equity   1.366084   1.479045   1.401406   1.573096      -100.0   \n",
       "\n",
       "                  ...      8/31/2017  9/30/2017  10/31/2017  11/30/2017  \\\n",
       "Date              ...                                                     \n",
       "DWDP US Equity    ...         -100.0     -100.0      -100.0      -100.0   \n",
       "\n",
       "                12/31/2017  1/31/2018  2/28/2018  3/31/2018  4/30/2018  \\\n",
       "Date                                                                     \n",
       "DWDP US Equity      -100.0     -100.0     -100.0     -100.0     -100.0   \n",
       "\n",
       "                5/31/2018  \n",
       "Date                       \n",
       "DWDP US Equity     -100.0  \n",
       "\n",
       "[1 rows x 125 columns]"
      ]
     },
     "execution_count": 169,
     "metadata": {},
     "output_type": "execute_result"
    }
   ],
   "source": [
    "data_bias.iloc[136:137,:]"
   ]
  },
  {
   "cell_type": "code",
   "execution_count": null,
   "metadata": {},
   "outputs": [],
   "source": []
  },
  {
   "cell_type": "code",
   "execution_count": 133,
   "metadata": {},
   "outputs": [],
   "source": [
    "from scipy.stats import norm\n",
    "\n",
    "# dist\n",
    "def dist(data):\n",
    "    mean = np.mean(data)\n",
    "    std = np.std(data)\n",
    "    \n",
    "    points = np.random.normal(mean, std)\n",
    "    "
   ]
  },
  {
   "cell_type": "code",
   "execution_count": null,
   "metadata": {},
   "outputs": [],
   "source": []
  },
  {
   "cell_type": "code",
   "execution_count": 151,
   "metadata": {},
   "outputs": [],
   "source": [
    "ex1 = [e for e in data_bias.iloc[:,6] if e != -100]"
   ]
  },
  {
   "cell_type": "code",
   "execution_count": 152,
   "metadata": {},
   "outputs": [
    {
     "name": "stderr",
     "output_type": "stream",
     "text": [
      "C:\\Users\\jingxiang.ma\\AppData\\Local\\Continuum\\anaconda3\\lib\\site-packages\\matplotlib\\axes\\_axes.py:6462: UserWarning: The 'normed' kwarg is deprecated, and has been replaced by the 'density' kwarg.\n",
      "  warnings.warn(\"The 'normed' kwarg is deprecated, and has been \"\n",
      "No handles with labels found to put in legend.\n"
     ]
    },
    {
     "data": {
      "text/plain": [
       "<matplotlib.legend.Legend at 0x160cf924e80>"
      ]
     },
     "execution_count": 152,
     "metadata": {},
     "output_type": "execute_result"
    },
    {
     "data": {
      "image/png": "[encoded data removed]",
      "text/plain": [
       "<Figure size 432x288 with 1 Axes>"
      ]
     },
     "metadata": {},
     "output_type": "display_data"
    }
   ],
   "source": [
    "plt.hist(ex1, 10, normed = True)\n",
    "plt.plot(ex1, norm.pdf(ex1))\n",
    "plt.legend()"
   ]
  },
  {
   "cell_type": "code",
   "execution_count": null,
   "metadata": {},
   "outputs": [],
   "source": [
    "# position of portfolio\n",
    "def pos(data, nlong, nshort):\n",
    "    nrow = len(data)\n",
    "    ncol = len(data.columns)\n",
    "    \n",
    "    \n",
    "    \n",
    "    "
   ]
  },
  {
   "cell_type": "code",
   "execution_count": null,
   "metadata": {},
   "outputs": [],
   "source": []
  },
  {
   "cell_type": "code",
   "execution_count": null,
   "metadata": {},
   "outputs": [],
   "source": []
  }
 ],
 "metadata": {
  "kernelspec": {
   "display_name": "Python 3",
   "language": "python",
   "name": "python3"
  },
  "language_info": {
   "codemirror_mode": {
    "name": "ipython",
    "version": 3
   },
   "file_extension": ".py",
   "mimetype": "text/x-python",
   "name": "python",
   "nbconvert_exporter": "python",
   "pygments_lexer": "ipython3",
   "version": "3.6.5"
  }
 },
 "nbformat": 4,
 "nbformat_minor": 2
}
